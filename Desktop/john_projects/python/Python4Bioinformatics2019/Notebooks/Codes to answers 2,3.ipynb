{
 "cells": [
  {
   "cell_type": "code",
   "execution_count": null,
   "metadata": {},
   "outputs": [],
   "source": [
    "#Exercises Questions 2\n",
    "\n",
    "AA = 'AAAAATCCCGAGGCGGCTATATAGGGCTCCGGAGGCGTAATATAAAA'\n",
    "site = 'TCCGGA'\n",
    "tl = len(AA)\n",
    "print('the total length of the sequence is:',tl)\n",
    "print('the first restriction site is', AA.find (site))"
   ]
  },
  {
   "cell_type": "code",
   "execution_count": null,
   "metadata": {},
   "outputs": [],
   "source": [
    "# Exercise Question 1\n",
    "AA = 'MNKMDLVADVAEKTDLSKAKATEVIDAVFA'\n",
    "print('The first amino acid in the sequence is', AA[-len(AA)])\n",
    "print('the last amino acid in the sequence is', AA[len(AA)-1])\n",
    "print('The fith amino acid in the sequence is', AA[4])"
   ]
  },
  {
   "cell_type": "code",
   "execution_count": null,
   "metadata": {},
   "outputs": [],
   "source": [
    "#Exercise on Lists,Tuples and sets\n",
    "#Using strings, lists, tuples and dictionaries concepts, find the reverse complement of AAAAATCCCGAGGCGGCTATATAGGGCTCCGGAGGCGTAATATAAAA\n",
    "\n",
    "#step 1: Store it in a string\n",
    "\n",
    "str_sequence = ('AAAAATCCCGAGGCGGCTATATAGGGCTCCGGAGGCGTAATATAAAA')\n",
    "\n",
    "\n",
    "#step 2 convert it to alist\n",
    "list_sequence = list(str_sequence)\n",
    "#print(list_sequence)\n",
    "\n",
    "# Reverse the DNA string using slicing method\n",
    "se=(list(str_sequence[::-1]))\n",
    "#print((se))\n",
    "\n",
    "#reverse using the reverse method\n",
    "#rint(list(str_sequence[::-1]))\n",
    "\n",
    "dna=list(str_sequence)\n",
    "dna.reverse()\n",
    "#print(dna)\n",
    "\n",
    "#Getting the complement\n",
    "#step 1 for a string\n",
    "\n",
    "complement = str_sequence.replace('A','t').replace('G','c').replace('C','g').replace('T','a')\n",
    "#print(complement[::-1])\n",
    "\n",
    "#step 2 for a string\n",
    "\n",
    "comp_dna = []\n",
    "for nuc in dna:\n",
    "    if nuc == 'A':\n",
    "        comp_dna.append('T')\n",
    "    if nuc == 'T':\n",
    "        comp_dna.append('A')\n",
    "    if nuc == 'C':\n",
    "        comp_dna.append('G')\n",
    "    if nuc == 'G':\n",
    "        comp_dna.append('C')\n",
    " \n",
    "''.join(comp_dna)\n"
   ]
  },
  {
   "cell_type": "code",
   "execution_count": null,
   "metadata": {},
   "outputs": [],
   "source": []
  },
  {
   "cell_type": "code",
   "execution_count": null,
   "metadata": {},
   "outputs": [],
   "source": [
    "acountbal = 50000\n",
    "choice = input(\"Please enter 'b' to check balance or 'w' to withdraw or 'd' to deposit: \")\n",
    "while choice != 'q':\n",
    "    if choice.lower() in ('w','b','d'):\n",
    "        if choice.lower() == 'b':\n",
    "            print(\"Your balance is: %d\" % acountbal)\n",
    "            print(\"Anything else?\")\n",
    "            choice = input(\"Enter b for balance, w to withdraw or q to quit: \")\n",
    "            print(choice.lower())\n",
    "        if choice.lower() == 'w':\n",
    "            withdraw = float(input(\"Enter amount to withdraw: \"))\n",
    "            if withdraw <= acountbal:\n",
    "                print(\"here is your: %.2f\" % withdraw)\n",
    "                acountbal = acountbal - withdraw\n",
    "                if withdraw <= acountbal:\n",
    "                    withdraw = acountbal - withdraw\n",
    "                    print('You have insufficient funds %d'% acountbal)\n",
    "                    \n",
    "                print(\"Anything else?\")\n",
    "                choice = input(\"Enter b for balance, w to withdraw or q to quit: \")\n",
    "                #choice = 'q'\n",
    "            else:\n",
    "                print(\"You have insufficient funds: %.2f\" % acountbal)\n",
    "                \n",
    "        if choice.lower() =='d':\n",
    "            \n",
    "            deposit = float(input(\"enter the amount you wish to deposit\"))\n",
    "            acountbal = deposit + acountbal\n",
    "            print('Your account balance is %.2f:' % acountbal)\n",
    "        else:\n",
    "                print('anything else?')\n",
    "                choice = input(\"Please enter 'b' to check balance or 'w' to withdraw: \")\n",
    "                \n",
    "        print(\"Wrong choice!\")\n",
    "        choice = input(\"Please enter 'b' to check balance or 'w' to withdraw: \")"
   ]
  },
  {
   "cell_type": "code",
   "execution_count": null,
   "metadata": {},
   "outputs": [],
   "source": [
    "acountbal = 50000\n",
    "choice = input(\"Please enter 'b' to check balance or 'w' to withdraw or 'd' to deposit: \")\n",
    "while choice != 'q':\n",
    "    if choice.lower() in ('w','b','d'):\n",
    "        if choice.lower() == 'b':\n",
    "            print(\"Your balance is: %d\" % acountbal)\n",
    "            print(\"Anything else?\")\n",
    "            choice = input(\"Enter 'b' for balance, 'w' to withdraw or 'q' to quit: \")\n",
    "            print(choice.lower())\n",
    "            \n",
    "        elif choice.lower() == 'w':\n",
    "                withdraw = float(input(\"Enter amount to withdraw: \"))\n",
    "                if withdraw <= acountbal:\n",
    "                    print(\"here is your: %.2f\" % withdraw)\n",
    "                    acountbal = acountbal - withdraw\n",
    "                    print(\"Anything else?\")\n",
    "                    choice = input(\"Enter 'b' for balance, 'w' to withdraw or 'q' to quit: \")\n",
    "                    \n",
    "                else:\n",
    "                    print('You have insufficient funds %d' % acountbal)\n",
    "                    choice = input(\"Enter 'b' for balance, 'w' to withdraw or 'd' to deposit or 'q' to quit: \")\n",
    "\n",
    "                    #choice = 'q'\n",
    "\n",
    "        elif choice.lower() =='d':\n",
    "\n",
    "            deposit = float(input(\"enter the amount you wish to deposit: \"))\n",
    "            acountbal = deposit + acountbal\n",
    "            print('Your account balance is %.2f: ' % acountbal)\n",
    "            print('anything else?')\n",
    "            choice = input(\"Please enter 'b' to check balance or 'w' to withdraw: \")\n",
    "            print(choice.lower())\n",
    "\n",
    "    else:\n",
    "                \n",
    "            print(\"Wrong choice!\")\n",
    "            choice = input(\"Please enter 'b' to check balance or 'w' to withdraw or 'd' to deposit \")"
   ]
  },
  {
   "cell_type": "code",
   "execution_count": null,
   "metadata": {},
   "outputs": [],
   "source": [
    "#A loop that prints out 0 to 5\n",
    "x = -1\n",
    "while x<5:\n",
    "    x=x+1\n",
    "    print(x)\n",
    "   "
   ]
  },
  {
   "cell_type": "code",
   "execution_count": null,
   "metadata": {},
   "outputs": [],
   "source": [
    "x=0\n",
    "while x<10:\n",
    "    x+=1\n",
    "    if x==5:\n",
    "        continue\n",
    "    else:\n",
    "        print(x)"
   ]
  },
  {
   "cell_type": "code",
   "execution_count": null,
   "metadata": {},
   "outputs": [],
   "source": [
    "for x in range(4,11):\n",
    "    print(x)"
   ]
  },
  {
   "cell_type": "markdown",
   "metadata": {},
   "source": [
    "## A function that calculates the %GC content##\n"
   ]
  },
  {
   "cell_type": "code",
   "execution_count": 1,
   "metadata": {},
   "outputs": [
    {
     "name": "stdout",
     "output_type": "stream",
     "text": [
      "The percentage GC is: 0.006 %\n",
      "The percentage GC is: 0.005 %\n",
      "The percentage GC is: 0.002 %\n"
     ]
    },
    {
     "data": {
      "text/plain": [
       "<function __main__.calculate_GC_content(dna)>"
      ]
     },
     "execution_count": 1,
     "metadata": {},
     "output_type": "execute_result"
    }
   ],
   "source": [
    "\n",
    "\n",
    "dna = \"CAGTGATGATGACGAT\"\n",
    "\n",
    "def calculate_GC_content(dna):\n",
    "    percent_GC = (dna.count('G')+dna.count('C'))/len(dna*100)\n",
    "    print('The percentage GC is: %.3f' % percent_GC,\"%\")\n",
    "    \n",
    "    return(calculate_GC_content)\n",
    "\n",
    "\n",
    "seq = 'ACTACATGGAGGGAGGACCCCT'\n",
    "calculate_GC_content(seq)\n",
    "yourdna = \"ACGATCGAGACGTAGTA\"\n",
    "calculate_GC_content(yourdna)\n",
    "\n",
    "testdna = \"ATFRACGATTGHAHYAK\"\n",
    "\n",
    "calculate_GC_content(testdna)"
   ]
  },
  {
   "cell_type": "code",
   "execution_count": 16,
   "metadata": {},
   "outputs": [
    {
     "ename": "NameError",
     "evalue": "name 'ATCG' is not defined",
     "output_type": "error",
     "traceback": [
      "\u001b[0;31m---------------------------------------------------------------------------\u001b[0m",
      "\u001b[0;31mNameError\u001b[0m                                 Traceback (most recent call last)",
      "\u001b[0;32m<ipython-input-16-ab1d50151f21>\u001b[0m in \u001b[0;36m<module>\u001b[0;34m()\u001b[0m\n\u001b[1;32m      8\u001b[0m \u001b[0;34m\u001b[0m\u001b[0m\n\u001b[1;32m      9\u001b[0m            \u001b[0;32mreturn\u001b[0m\u001b[0;34m(\u001b[0m\u001b[0;34m)\u001b[0m\u001b[0;34m\u001b[0m\u001b[0m\n\u001b[0;32m---> 10\u001b[0;31m \u001b[0mbase_check\u001b[0m\u001b[0;34m(\u001b[0m\u001b[0mtestdna\u001b[0m\u001b[0;34m)\u001b[0m\u001b[0;34m\u001b[0m\u001b[0m\n\u001b[0m",
      "\u001b[0;32m<ipython-input-16-ab1d50151f21>\u001b[0m in \u001b[0;36mbase_check\u001b[0;34m(dna)\u001b[0m\n\u001b[1;32m      1\u001b[0m \u001b[0;32mdef\u001b[0m \u001b[0mbase_check\u001b[0m\u001b[0;34m(\u001b[0m\u001b[0mdna\u001b[0m\u001b[0;34m)\u001b[0m\u001b[0;34m:\u001b[0m\u001b[0;34m\u001b[0m\u001b[0m\n\u001b[0;32m----> 2\u001b[0;31m        \u001b[0;32mif\u001b[0m \u001b[0mdna\u001b[0m \u001b[0;34m!=\u001b[0m \u001b[0;34m[\u001b[0m\u001b[0mATCG\u001b[0m\u001b[0;34m]\u001b[0m\u001b[0;34m:\u001b[0m\u001b[0;34m\u001b[0m\u001b[0m\n\u001b[0m\u001b[1;32m      3\u001b[0m            \u001b[0mprint\u001b[0m\u001b[0;34m(\u001b[0m\u001b[0;34m'Your sequence is not a DNA sequence'\u001b[0m\u001b[0;34m)\u001b[0m\u001b[0;34m\u001b[0m\u001b[0m\n\u001b[1;32m      4\u001b[0m        \u001b[0;32melse\u001b[0m\u001b[0;34m:\u001b[0m\u001b[0;34m\u001b[0m\u001b[0m\n\u001b[1;32m      5\u001b[0m            \u001b[0mcalculate_GC_content\u001b[0m\u001b[0;34m(\u001b[0m\u001b[0mdna\u001b[0m\u001b[0;34m)\u001b[0m\u001b[0;34m\u001b[0m\u001b[0m\n",
      "\u001b[0;31mNameError\u001b[0m: name 'ATCG' is not defined"
     ]
    }
   ],
   "source": [
    " def base_check(dna):\n",
    "        if dna != [ATCG]:\n",
    "            print('Your sequence is not a DNA sequence')\n",
    "        else:\n",
    "            calculate_GC_content(dna)\n",
    "            \n",
    "            print('your sequence is a DNA')\n",
    "            \n",
    "            return()\n",
    "base_check(testdna)"
   ]
  },
  {
   "cell_type": "code",
   "execution_count": 40,
   "metadata": {},
   "outputs": [
    {
     "ename": "SyntaxError",
     "evalue": "invalid syntax (<ipython-input-40-d5ffc6f9ef67>, line 7)",
     "output_type": "error",
     "traceback": [
      "\u001b[0;36m  File \u001b[0;32m\"<ipython-input-40-d5ffc6f9ef67>\"\u001b[0;36m, line \u001b[0;32m7\u001b[0m\n\u001b[0;31m    else:\u001b[0m\n\u001b[0m       ^\u001b[0m\n\u001b[0;31mSyntaxError\u001b[0m\u001b[0;31m:\u001b[0m invalid syntax\n"
     ]
    }
   ],
   "source": [
    "def isvalidDNA(s):\n",
    "    valid_bases=list('ACTG')\n",
    "    valid = True\n",
    "    for base in s:\n",
    "        if base in valid_bases:\n",
    "            continue\n",
    "            else:\n",
    "                valid = False\n",
    "            return (valid)\n",
    "\n",
    "    \n",
    "isvalidDNA(seq)"
   ]
  },
  {
   "cell_type": "code",
   "execution_count": 29,
   "metadata": {},
   "outputs": [
    {
     "name": "stdout",
     "output_type": "stream",
     "text": [
      "The percentage GC is: 0.004 %\n",
      "Your sequence is not a DNA sequence\n"
     ]
    }
   ],
   "source": [
    "\n",
    "def base_check(dna):\n",
    "    if dna != 'A'and dna !='T' and dna != 'G'and dna != 'C':\n",
    "        print('Your sequence is not a DNA sequence')\n",
    "    else:\n",
    "        print('your sequence is a DNA')\n",
    "calculate_GC_content(dna)\n",
    "            \n",
    "       \n",
    "\n",
    "    \n",
    "base_check(yourdna)"
   ]
  },
  {
   "cell_type": "code",
   "execution_count": null,
   "metadata": {},
   "outputs": [],
   "source": []
  }
 ],
 "metadata": {
  "kernelspec": {
   "display_name": "Python 3",
   "language": "python",
   "name": "python3"
  },
  "language_info": {
   "codemirror_mode": {
    "name": "ipython",
    "version": 3
   },
   "file_extension": ".py",
   "mimetype": "text/x-python",
   "name": "python",
   "nbconvert_exporter": "python",
   "pygments_lexer": "ipython3",
   "version": "3.6.5"
  }
 },
 "nbformat": 4,
 "nbformat_minor": 2
}
